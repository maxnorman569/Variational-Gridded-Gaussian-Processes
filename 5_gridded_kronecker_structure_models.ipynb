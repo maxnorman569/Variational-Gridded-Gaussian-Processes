{
 "cells": [
  {
   "cell_type": "code",
   "execution_count": 1,
   "metadata": {},
   "outputs": [],
   "source": [
    "%load_ext autoreload\n",
    "%autoreload 2"
   ]
  },
  {
   "cell_type": "code",
   "execution_count": 1,
   "metadata": {},
   "outputs": [],
   "source": [
    "# numeric imports\n",
    "import torch\n",
    "import numpy as np\n",
    "# gp imports\n",
    "import gpytorch\n",
    "from src.models.sparse.gridded_kronecker_structure import GriddedMatern12ExactGP, GriddedMatern12SVGP, GriddedMatern12ASVGP, GriddedMatern12VFFGP, Matern12GriddedGP\n",
    "# plotting imports\n",
    "import matplotlib.pyplot as plt\n",
    "# util imports\n",
    "from src.utils.datagenerators import gen_2d\n",
    "# misc imports\n",
    "from tqdm import tqdm"
   ]
  },
  {
   "attachments": {},
   "cell_type": "markdown",
   "metadata": {},
   "source": [
    "# Generate Data"
   ]
  },
  {
   "cell_type": "code",
   "execution_count": 2,
   "metadata": {},
   "outputs": [],
   "source": [
    "# data generating function\n",
    "def latent_function_2d(x1, x2):\n",
    "    return (\n",
    "        np.sin(5 * x1) + np.cos(7 * x2) +\n",
    "        0.5 * np.sin(15 * x1) + 0.5 * np.cos(12 * x2) +\n",
    "        0.2 * np.sin(20 * x1) + 0.2 * np.cos(25 * x2)\n",
    "    )"
   ]
  },
  {
   "cell_type": "code",
   "execution_count": 3,
   "metadata": {},
   "outputs": [],
   "source": [
    "# data generating meta\n",
    "X1LIMS = (0., 1.)\n",
    "X2LIMS = (0., 1.)\n",
    "N_OBS = 25 # 25 X 25 = 625 observations\n",
    "# plotting meta\n",
    "EXTENT = [X1LIMS[0], X1LIMS[1], X2LIMS[0], X2LIMS[1]]"
   ]
  },
  {
   "cell_type": "code",
   "execution_count": 4,
   "metadata": {},
   "outputs": [],
   "source": [
    "X, y = gen_2d(latent_function_2d, X1LIMS, X2LIMS, N_OBS)"
   ]
  },
  {
   "cell_type": "code",
   "execution_count": 5,
   "metadata": {},
   "outputs": [
    {
     "data": {
      "image/png": "[encoded data removed]",
      "text/plain": [
       "<Figure size 640x480 with 2 Axes>"
      ]
     },
     "metadata": {},
     "output_type": "display_data"
    }
   ],
   "source": [
    "plt.imshow(y.reshape(N_OBS, N_OBS), extent = EXTENT, cmap='coolwarm', origin='upper')\n",
    "plt.colorbar()\n",
    "# plot style\n",
    "plt.xlabel('x1')\n",
    "plt.ylabel('x2')\n",
    "plt.title('y');"
   ]
  },
  {
   "cell_type": "code",
   "execution_count": 6,
   "metadata": {},
   "outputs": [],
   "source": [
    "# training data\n",
    "X_train = torch.tensor(X).to(torch.float64)\n",
    "y_train = torch.tensor(y).to(torch.float64)"
   ]
  },
  {
   "attachments": {},
   "cell_type": "markdown",
   "metadata": {},
   "source": [
    "# Exact GP"
   ]
  },
  {
   "cell_type": "code",
   "execution_count": 182,
   "metadata": {},
   "outputs": [],
   "source": [
    "exactgp = GriddedMatern12ExactGP(\n",
    "                        train_x = X_train, train_y = y_train,   \n",
    "                        n_b0_splines = 10,\n",
    "                        dim1_grid_lims = (0., 1.), dim2_grid_lims = (0., 1.),).to(torch.float64)"
   ]
  },
  {
   "cell_type": "code",
   "execution_count": 188,
   "metadata": {},
   "outputs": [
    {
     "name": "stderr",
     "output_type": "stream",
     "text": [
      "100%|██████████| 100/100 [00:03<00:00, 32.70it/s]\n"
     ]
    }
   ],
   "source": [
    "# fit the Exact GP\n",
    "EXACT_GP_LR = 0.1\n",
    "EXACT_GP_ITERATIONS = 100\n",
    "# set model and likelihood into training mode\n",
    "exactgp.train()\n",
    "exactgp.likelihood.train()\n",
    "# define the optimizer\n",
    "optimizer = torch.optim.Adam(exactgp.parameters(), lr = EXACT_GP_LR)\n",
    "# define the mll\n",
    "mll = gpytorch.mlls.ExactMarginalLogLikelihood(exactgp.likelihood, exactgp)\n",
    "history = torch.zeros(EXACT_GP_ITERATIONS)\n",
    "for i in tqdm(range(EXACT_GP_ITERATIONS)):\n",
    "    optimizer.zero_grad()\n",
    "    output = exactgp(exactgp.train_x)\n",
    "    loss = -mll(output, exactgp.train_y)\n",
    "    history[i] = loss.item()\n",
    "    loss.backward()\n",
    "    optimizer.step()\n",
    "\n",
    "# print('='*((5*15) + 4))\n",
    "# print(f\"{'Iteration':^15}|{'Loss':^15}|{'Noise':^15}|{'Lengthscale':^15}|{'Outputscale':^15}\")\n",
    "# print('='*((5*15) + 4))\n",
    "# print(f\"{i+1:^15}|{loss.item():^15.3f}|{exactgp.likelihood.noise.item():^15.3f}|{exactgp.kernel.base_kernel.lengthscale.item():^15.3f}|{exactgp.kernel.outputscale.item():^15.3f}\")"
   ]
  },
  {
   "attachments": {},
   "cell_type": "markdown",
   "metadata": {},
   "source": [
    "# GriddedSVGP"
   ]
  },
  {
   "cell_type": "code",
   "execution_count": 7,
   "metadata": {},
   "outputs": [],
   "source": [
    "# inducing points\n",
    "N_INDUCING = 100\n",
    "Z = torch.tensor(np.random.rand(N_INDUCING, 2), dtype=torch.float64)"
   ]
  },
  {
   "cell_type": "code",
   "execution_count": 8,
   "metadata": {},
   "outputs": [],
   "source": [
    "gridded_svgp = GriddedMatern12SVGP(\n",
    "                    X_train, y_train, Z, # data part\n",
    "                    n_b0_splines=10, # vff part\n",
    "                    dim1_grid_lims=(0,1), dim2_grid_lims=(0,1)).to(torch.float64) # spline part"
   ]
  },
  {
   "cell_type": "code",
   "execution_count": 9,
   "metadata": {},
   "outputs": [
    {
     "name": "stderr",
     "output_type": "stream",
     "text": [
      "/Users/maxnorman/opt/anaconda3/envs/project_env/lib/python3.9/site-packages/gpytorch/lazy/non_lazy_tensor.py:13: UserWarning: gpytorch.lazy.lazify is deprecated in favor of linear_operator.to_linear_operator\n",
      "  warnings.warn(\"gpytorch.lazy.lazify is deprecated in favor of linear_operator.to_linear_operator\")\n",
      "/Users/maxnorman/UCL/dissertation/src/models/sparse/gridded_kronecker_structure.py:291: UserWarning: torch.searchsorted(): input value tensor is non-contiguous, this will lower the performance due to extra data copy when converting non-contiguous tensor to contiguous, please use contiguous input value tensor if possible. This message will only appear once per program. (Triggered internally at /Users/runner/work/_temp/anaconda/conda-bld/pytorch_1682343686209/work/aten/src/ATen/native/BucketizationUtils.h:35.)\n",
      "  indicator = -torch.sign(torch.searchsorted(mesh, x[:, 0], right=False) - k[:, None] - 1)\n"
     ]
    },
    {
     "data": {
      "text/plain": [
       "MultivariateNormal(loc: torch.Size([100]), covariance_matrix: torch.Size([100, 100]))"
      ]
     },
     "execution_count": 9,
     "metadata": {},
     "output_type": "execute_result"
    }
   ],
   "source": [
    "gridded_svgp.q_v()"
   ]
  },
  {
   "cell_type": "code",
   "execution_count": 126,
   "metadata": {},
   "outputs": [
    {
     "name": "stderr",
     "output_type": "stream",
     "text": [
      "  0%|          | 0/100 [00:00<?, ?it/s]"
     ]
    },
    {
     "name": "stderr",
     "output_type": "stream",
     "text": [
      "/Users/maxnorman/opt/anaconda3/envs/project_env/lib/python3.9/site-packages/gpytorch/lazy/non_lazy_tensor.py:13: UserWarning: gpytorch.lazy.lazify is deprecated in favor of linear_operator.to_linear_operator\n",
      "  warnings.warn(\"gpytorch.lazy.lazify is deprecated in favor of linear_operator.to_linear_operator\")\n",
      "100%|██████████| 100/100 [00:08<00:00, 11.43it/s]\n"
     ]
    },
    {
     "data": {
      "text/plain": [
       "''"
      ]
     },
     "execution_count": 126,
     "metadata": {},
     "output_type": "execute_result"
    }
   ],
   "source": [
    "# fit the VFFGP\n",
    "LR = 0.01\n",
    "ITERATIONS = 100\n",
    "optimizer = torch.optim.Adam(gridded_svgp.parameters(), lr=LR)\n",
    "# perform gradient descent\n",
    "svgp_history = torch.empty(ITERATIONS)\n",
    "for i in tqdm(range(ITERATIONS)):\n",
    "    optimizer.zero_grad()\n",
    "    elbow = -gridded_svgp._elbo()\n",
    "    svgp_history[i] = elbow.item()\n",
    "    elbow.backward()\n",
    "    optimizer.step()\n",
    ";"
   ]
  },
  {
   "attachments": {},
   "cell_type": "markdown",
   "metadata": {},
   "source": [
    "# GriddedVFFGP"
   ]
  },
  {
   "cell_type": "code",
   "execution_count": 105,
   "metadata": {},
   "outputs": [],
   "source": [
    "# TODO: change names for consistency (i.e nspline -> n_b0_splines)"
   ]
  },
  {
   "cell_type": "code",
   "execution_count": 127,
   "metadata": {},
   "outputs": [],
   "source": [
    "gridded_vffgp = GriddedMatern12VFFGP(\n",
    "                    X_train, y_train, # data part\n",
    "                    nfrequencies=10, vffdim1lims=(-1., 2.), vffdim2lims=(-1., 2.), # vff part\n",
    "                    nsplines = 10, griddim1lims=(0,1), griddim2lims=(0,1)).to(torch.float64) # spline part"
   ]
  },
  {
   "cell_type": "code",
   "execution_count": 128,
   "metadata": {},
   "outputs": [
    {
     "name": "stderr",
     "output_type": "stream",
     "text": [
      "  0%|          | 0/100 [00:00<?, ?it/s]"
     ]
    },
    {
     "name": "stderr",
     "output_type": "stream",
     "text": [
      "100%|██████████| 100/100 [00:18<00:00,  5.40it/s]\n"
     ]
    }
   ],
   "source": [
    "# fit SVGP\n",
    "LR = 0.01\n",
    "NITER = 100\n",
    "optimizer = torch.optim.Adam(gridded_vffgp.parameters(), lr=LR)\n",
    "# perform gradient descent\n",
    "history = torch.empty(NITER)\n",
    "for i in tqdm(range(NITER)):\n",
    "    optimizer.zero_grad()\n",
    "    elbow = -gridded_vffgp._elbo()\n",
    "    history[i] = elbow.item()\n",
    "    elbow.backward()\n",
    "    optimizer.step()"
   ]
  },
  {
   "attachments": {},
   "cell_type": "markdown",
   "metadata": {},
   "source": [
    "# GriddedASVGP"
   ]
  },
  {
   "cell_type": "code",
   "execution_count": 144,
   "metadata": {},
   "outputs": [],
   "source": [
    "N_B0SPLINES = 10\n",
    "PADDING_FACTOR = 0\n",
    "gridded_asvgp = GriddedMatern12ASVGP(X_train, y_train, N_B0SPLINES, PADDING_FACTOR, (0,1), (0,1))"
   ]
  },
  {
   "cell_type": "code",
   "execution_count": 149,
   "metadata": {},
   "outputs": [],
   "source": [
    "# # fit SVGP\n",
    "# LR = 0.01\n",
    "# NITER = 100\n",
    "# optimizer = torch.optim.Adam(gridded_asvgp.parameters(), lr=LR)\n",
    "# # perform gradient descent\n",
    "# asvgp_history = torch.empty(NITER)\n",
    "# for i in tqdm(range(NITER)):\n",
    "#     optimizer.zero_grad()\n",
    "#     elbow = -gridded_asvgp._elbo()\n",
    "#     asvgp_history[i] = elbow.item()\n",
    "#     elbow.backward()\n",
    "#     optimizer.step()"
   ]
  },
  {
   "attachments": {},
   "cell_type": "markdown",
   "metadata": {},
   "source": [
    "# GriddedGP (Mine)"
   ]
  },
  {
   "cell_type": "code",
   "execution_count": 133,
   "metadata": {},
   "outputs": [],
   "source": [
    "N_KNOTS = 11\n",
    "GRIDDEDDIM1LIMS = (0, 1) # TODO: Need to add padding to this model -> otherwise breaks\n",
    "GRIDDEDDIM2LIMS = (0, 1)"
   ]
  },
  {
   "cell_type": "code",
   "execution_count": 134,
   "metadata": {},
   "outputs": [],
   "source": [
    "griddedgp = Matern12GriddedGP(X_train, y_train, N_KNOTS, GRIDDEDDIM1LIMS, GRIDDEDDIM2LIMS).to(torch.float64)"
   ]
  },
  {
   "cell_type": "code",
   "execution_count": 135,
   "metadata": {},
   "outputs": [
    {
     "name": "stderr",
     "output_type": "stream",
     "text": [
      "  0%|          | 0/100 [00:00<?, ?it/s]"
     ]
    },
    {
     "name": "stderr",
     "output_type": "stream",
     "text": [
      "100%|██████████| 100/100 [00:08<00:00, 11.35it/s]\n"
     ]
    }
   ],
   "source": [
    "# fit SVGP\n",
    "LR = 0.01\n",
    "NITER = 100\n",
    "optimizer = torch.optim.Adam(griddedgp.parameters(), lr=LR)\n",
    "# perform gradient descent\n",
    "griddedgp_history = torch.empty(NITER)\n",
    "for i in tqdm(range(NITER)):\n",
    "    optimizer.zero_grad()\n",
    "    elbow = -griddedgp._elbo()\n",
    "    griddedgp_history[i] = elbow.item()\n",
    "    elbow.backward()\n",
    "    optimizer.step()"
   ]
  },
  {
   "attachments": {},
   "cell_type": "markdown",
   "metadata": {},
   "source": [
    "# Model Comparison"
   ]
  },
  {
   "cell_type": "code",
   "execution_count": 146,
   "metadata": {},
   "outputs": [],
   "source": [
    "exactgp_grid_pred = exactgp.q_v()\n",
    "svgp_grid_pred = gridded_svgp.q_v()\n",
    "vffgp_grid_pred = gridded_vffgp.q_v()\n",
    "asvgp_grid_pred = gridded_asvgp.q_v()\n",
    "grid_pred = griddedgp.q_v()"
   ]
  },
  {
   "cell_type": "code",
   "execution_count": 154,
   "metadata": {},
   "outputs": [
    {
     "ename": "AttributeError",
     "evalue": "'Axes' object has no attribute 'colorbar'",
     "output_type": "error",
     "traceback": [
      "\u001b[0;31m---------------------------------------------------------------------------\u001b[0m",
      "\u001b[0;31mAttributeError\u001b[0m                            Traceback (most recent call last)",
      "Cell \u001b[0;32mIn[154], line 32\u001b[0m\n\u001b[1;32m     30\u001b[0m ax12\u001b[39m.\u001b[39mimshow(torch\u001b[39m.\u001b[39mdiagonal(grid_pred\u001b[39m.\u001b[39mcovariance_matrix\u001b[39m.\u001b[39mdetach())\u001b[39m.\u001b[39mnumpy()\u001b[39m.\u001b[39mreshape(\u001b[39m10\u001b[39m, \u001b[39m10\u001b[39m)\u001b[39m.\u001b[39mT, origin\u001b[39m=\u001b[39m\u001b[39m'\u001b[39m\u001b[39mupper\u001b[39m\u001b[39m'\u001b[39m, extent\u001b[39m=\u001b[39m[\u001b[39m0\u001b[39m, \u001b[39m1\u001b[39m, \u001b[39m0\u001b[39m, \u001b[39m1\u001b[39m], cmap\u001b[39m=\u001b[39m\u001b[39m'\u001b[39m\u001b[39mcoolwarm\u001b[39m\u001b[39m'\u001b[39m)\n\u001b[1;32m     31\u001b[0m ax6\u001b[39m.\u001b[39mset_title(\u001b[39m'\u001b[39m\u001b[39mGriddedGP\u001b[39m\u001b[39m'\u001b[39m)\n\u001b[0;32m---> 32\u001b[0m ax12\u001b[39m.\u001b[39;49mcolorbar()\n",
      "\u001b[0;31mAttributeError\u001b[0m: 'Axes' object has no attribute 'colorbar'"
     ]
    },
    {
     "data": {
      "image/png": "[encoded data removed]",
      "text/plain": [
       "<Figure size 2000x400 with 12 Axes>"
      ]
     },
     "metadata": {},
     "output_type": "display_data"
    }
   ],
   "source": [
    "fig, ((ax1, ax2, ax3, ax4, ax5, ax6), (ax7, ax8, ax9, ax10, ax11, ax12)) = plt.subplots(2, 6, figsize=(20, 4))\n",
    "\n",
    "# plot true\n",
    "ax1.imshow(y.reshape(25, 25), origin='upper', extent=[0, 1, 0, 1], cmap='coolwarm')\n",
    "ax7.imshow(y.reshape(25, 25), origin='upper', extent=[0, 1, 0, 1], cmap='coolwarm')\n",
    "ax1.set_title('True')\n",
    "\n",
    "# plot exactgp\n",
    "ax2.imshow(exactgp_grid_pred.mean.detach().numpy().reshape(10, 10).T, origin='upper', extent=[0, 1, 0, 1], cmap='coolwarm')\n",
    "ax8.imshow(torch.diagonal(exactgp_grid_pred.covariance_matrix.detach()).numpy().reshape(10, 10).T, origin='upper', extent=[0, 1, 0, 1], cmap='coolwarm')\n",
    "ax2.set_title('GriddedExactGP')\n",
    "\n",
    "# plot svgp\n",
    "ax3.imshow(svgp_grid_pred.mean.detach().numpy().reshape(10, 10).T, origin='upper', extent=[0, 1, 0, 1], cmap='coolwarm')\n",
    "ax9.imshow(torch.diagonal(svgp_grid_pred.covariance_matrix.detach()).numpy().reshape(10, 10).T, origin='upper', extent=[0, 1, 0, 1], cmap='coolwarm')\n",
    "ax3.set_title('GriddedSVGP')\n",
    "\n",
    "# plot vffgp\n",
    "ax4.imshow(vffgp_grid_pred.mean.detach().numpy().reshape(10, 10).T, origin='upper', extent=[0, 1, 0, 1], cmap='coolwarm')\n",
    "ax10.imshow(torch.diagonal(vffgp_grid_pred.covariance_matrix.detach()).numpy().reshape(10, 10).T, origin='upper', extent=[0, 1, 0, 1], cmap='coolwarm')\n",
    "ax4.set_title('GriddedVFFGP')\n",
    "\n",
    "# plot asvgp\n",
    "ax5.imshow(asvgp_grid_pred.mean.detach().numpy().reshape(10, 10).T, origin='upper', extent=[0, 1, 0, 1], cmap='coolwarm')\n",
    "ax11.imshow(torch.diagonal(asvgp_grid_pred.covariance_matrix.detach()).numpy().reshape(10, 10).T, origin='upper', extent=[0, 1, 0, 1], cmap='coolwarm')\n",
    "ax5.set_title('GriddedASVGP')\n",
    "\n",
    "# plot griddedgp\n",
    "ax6.imshow(grid_pred.mean.detach().numpy().reshape(10, 10).T, origin='upper', extent=[0, 1, 0, 1], cmap='coolwarm')\n",
    "ax12.imshow(torch.diagonal(grid_pred.covariance_matrix.detach()).numpy().reshape(10, 10).T, origin='upper', extent=[0, 1, 0, 1], cmap='coolwarm')\n",
    "ax6.set_title('GriddedGP')\n"
   ]
  },
  {
   "cell_type": "code",
   "execution_count": 175,
   "metadata": {},
   "outputs": [
    {
     "data": {
      "text/plain": [
       "Text(0.5, 1.0, 'GriddedGP')"
      ]
     },
     "execution_count": 175,
     "metadata": {},
     "output_type": "execute_result"
    },
    {
     "data": {
      "image/png": "[encoded data removed]",
      "text/plain": [
       "<Figure size 2000x300 with 5 Axes>"
      ]
     },
     "metadata": {},
     "output_type": "display_data"
    }
   ],
   "source": [
    "fig, (ax2, ax3, ax4, ax5, ax6) = plt.subplots(1, 5, figsize=(20, 3))\n",
    "\n",
    "# plot true\n",
    "# ax1.imshow(y.reshape(25, 25), origin='upper', extent=[0, 1, 0, 1], cmap='coolwarm')\n",
    "# ax1.set_title('True')\n",
    "vmin = 0\n",
    "vmax = 1\n",
    "\n",
    "# plot exactgp\n",
    "ax2.imshow(torch.diagonal(exactgp_grid_pred.covariance_matrix.detach()).numpy().reshape(10, 10).T, origin='upper', extent=[0, 1, 0, 1], cmap='coolwarm', vmin=vmin, vmax=vmax)\n",
    "ax2.set_title('GriddedExactGP')\n",
    "\n",
    "# plot svgp\n",
    "ax3.imshow(torch.diagonal(svgp_grid_pred.covariance_matrix.detach()).numpy().reshape(10, 10).T, origin='upper', extent=[0, 1, 0, 1], cmap='coolwarm', vmin=vmin, vmax=vmax)\n",
    "ax3.set_title('GriddedSVGP')\n",
    "\n",
    "# plot vffgp\n",
    "ax4.imshow(torch.diagonal(vffgp_grid_pred.covariance_matrix.detach()).numpy().reshape(10, 10).T, origin='upper', extent=[0, 1, 0, 1], cmap='coolwarm', vmin=vmin, vmax=vmax)\n",
    "ax4.set_title('GriddedVFFGP')\n",
    "\n",
    "# plot asvgp\n",
    "ax5.imshow(torch.diagonal(asvgp_grid_pred.covariance_matrix.detach()).numpy().reshape(10, 10).T, origin='upper', extent=[0, 1, 0, 1], cmap='coolwarm', vmin=vmin, vmax=vmax)\n",
    "ax5.set_title('GriddedASVGP')\n",
    "\n",
    "# plot griddedgp\n",
    "ax6.imshow(torch.diagonal(grid_pred.covariance_matrix.detach()).numpy().reshape(10, 10).T, origin='upper', extent=[0, 1, 0, 1], cmap='coolwarm', vmin=vmin, vmax=vmax)\n",
    "ax6.set_title('GriddedGP')"
   ]
  },
  {
   "cell_type": "code",
   "execution_count": 170,
   "metadata": {},
   "outputs": [
    {
     "data": {
      "text/plain": [
       "877.2060493492759"
      ]
     },
     "execution_count": 170,
     "metadata": {},
     "output_type": "execute_result"
    }
   ],
   "source": [
    "torch.diagonal(exactgp_grid_pred.covariance_matrix.detach()).numpy().min()"
   ]
  },
  {
   "cell_type": "code",
   "execution_count": 171,
   "metadata": {},
   "outputs": [
    {
     "data": {
      "text/plain": [
       "941.5257019488184"
      ]
     },
     "execution_count": 171,
     "metadata": {},
     "output_type": "execute_result"
    }
   ],
   "source": [
    "torch.diagonal(exactgp_grid_pred.covariance_matrix.detach()).numpy().max()"
   ]
  },
  {
   "cell_type": "code",
   "execution_count": null,
   "metadata": {},
   "outputs": [],
   "source": []
  }
 ],
 "metadata": {
  "kernelspec": {
   "display_name": "project_env",
   "language": "python",
   "name": "python3"
  },
  "language_info": {
   "codemirror_mode": {
    "name": "ipython",
    "version": 3
   },
   "file_extension": ".py",
   "mimetype": "text/x-python",
   "name": "python",
   "nbconvert_exporter": "python",
   "pygments_lexer": "ipython3",
   "version": "3.9.17"
  },
  "orig_nbformat": 4
 },
 "nbformat": 4,
 "nbformat_minor": 2
}
