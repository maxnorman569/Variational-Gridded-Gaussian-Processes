{
 "cells": [
  {
   "cell_type": "code",
   "execution_count": 4,
   "metadata": {},
   "outputs": [],
   "source": [
    "# numeric imports\n",
    "import torch\n",
    "import numpy \n",
    "# gp imports\n",
    "import gpytorch\n",
    "from src.models.exact.univariate_structure import Matern12GP\n",
    "from src.models.sparse.univariate_structure import Matern12SVGP, Matern12VFFGP, Matern12B1SplineASVGP, Matern12B0SplineGriddedGP\n",
    "# plotting imports\n",
    "import matplotlib.pyplot as plt\n",
    "import seaborn as sns\n",
    "# utils imports\n",
    "from src.utils.datagenerators import gen_1d\n",
    "# misc imports\n",
    "from tqdm import tqdm"
   ]
  },
  {
   "cell_type": "code",
   "execution_count": 61,
   "metadata": {},
   "outputs": [],
   "source": [
    "plt.style.use('seaborn-v0_8-paper')"
   ]
  },
  {
   "cell_type": "code",
   "execution_count": 62,
   "metadata": {},
   "outputs": [
    {
     "name": "stdout",
     "output_type": "stream",
     "text": [
      "['Solarize_Light2', '_classic_test_patch', '_mpl-gallery', '_mpl-gallery-nogrid', 'bmh', 'classic', 'dark_background', 'fast', 'fivethirtyeight', 'ggplot', 'grayscale', 'seaborn-v0_8', 'seaborn-v0_8-bright', 'seaborn-v0_8-colorblind', 'seaborn-v0_8-dark', 'seaborn-v0_8-dark-palette', 'seaborn-v0_8-darkgrid', 'seaborn-v0_8-deep', 'seaborn-v0_8-muted', 'seaborn-v0_8-notebook', 'seaborn-v0_8-paper', 'seaborn-v0_8-pastel', 'seaborn-v0_8-poster', 'seaborn-v0_8-talk', 'seaborn-v0_8-ticks', 'seaborn-v0_8-white', 'seaborn-v0_8-whitegrid', 'tableau-colorblind10']\n"
     ]
    }
   ],
   "source": [
    "print(plt.style.available)"
   ]
  },
  {
   "attachments": {},
   "cell_type": "markdown",
   "metadata": {},
   "source": [
    "# Generate Noisy Data"
   ]
  },
  {
   "cell_type": "code",
   "execution_count": 63,
   "metadata": {},
   "outputs": [],
   "source": [
    "# latent function\n",
    "latent_function = lambda x : torch.sin(x) + torch.cos(x)"
   ]
  },
  {
   "cell_type": "code",
   "execution_count": 64,
   "metadata": {},
   "outputs": [],
   "source": [
    "# meta\n",
    "LEFTLIM = 0.\n",
    "RIGHTLIM = 2.\n",
    "N_OBS = 15"
   ]
  },
  {
   "cell_type": "code",
   "execution_count": 65,
   "metadata": {},
   "outputs": [],
   "source": [
    "# generate data\n",
    "X, y = gen_1d(fun = latent_function, leftlim = LEFTLIM, rightlim = RIGHTLIM, nobs = N_OBS, randomspacing = False)"
   ]
  },
  {
   "cell_type": "code",
   "execution_count": 66,
   "metadata": {},
   "outputs": [],
   "source": [
    "# add noise\n",
    "y += torch.distributions.Normal(0, 0.05).sample(y.shape)"
   ]
  },
  {
   "cell_type": "code",
   "execution_count": 67,
   "metadata": {},
   "outputs": [
    {
     "data": {
      "text/plain": [
       "<matplotlib.legend.Legend at 0x7fc911497b50>"
      ]
     },
     "execution_count": 67,
     "metadata": {},
     "output_type": "execute_result"
    },
    {
     "data": {
      "image/png": "[encoded data removed]",
      "text/plain": [
       "<Figure size 512x352 with 1 Axes>"
      ]
     },
     "metadata": {},
     "output_type": "display_data"
    }
   ],
   "source": [
    "# plot data\n",
    "plt.plot(X, y, 'x', color = 'red', label = 'Observations')\n",
    "plt.plot(torch.linspace(LEFTLIM, RIGHTLIM, 1000), latent_function(torch.linspace(LEFTLIM, RIGHTLIM, 1000)), color = 'black', alpha = 0.3, label = 'Latent function') # true function\n",
    "plt.title('latent function observations')\n",
    "plt.xlabel('x')\n",
    "plt.ylabel('y')\n",
    "plt.legend(frameon=False)"
   ]
  },
  {
   "cell_type": "code",
   "execution_count": 68,
   "metadata": {},
   "outputs": [],
   "source": [
    "# make training data\n",
    "X_train = X.clone().detach().to(torch.float64)\n",
    "y_train = y.clone().detach().to(torch.float64)"
   ]
  },
  {
   "cell_type": "code",
   "execution_count": 69,
   "metadata": {},
   "outputs": [],
   "source": [
    "# make test data\n",
    "X_test = torch.linspace(LEFTLIM, RIGHTLIM, 100).to(torch.float64)"
   ]
  },
  {
   "attachments": {},
   "cell_type": "markdown",
   "metadata": {},
   "source": [
    "# Matern 12 GPs"
   ]
  },
  {
   "attachments": {},
   "cell_type": "markdown",
   "metadata": {},
   "source": [
    "## Exact GP"
   ]
  },
  {
   "cell_type": "code",
   "execution_count": 70,
   "metadata": {},
   "outputs": [],
   "source": [
    "exact_gp = Matern12GP(X_train, y_train)"
   ]
  },
  {
   "cell_type": "code",
   "execution_count": 71,
   "metadata": {},
   "outputs": [
    {
     "name": "stderr",
     "output_type": "stream",
     "text": [
      "100%|██████████| 1000/1000 [00:03<00:00, 310.85it/s]"
     ]
    },
    {
     "name": "stdout",
     "output_type": "stream",
     "text": [
      "===============================================================================\n",
      "   Iteration   |     Loss      |     Noise     |  Lengthscale  |  Outputscale  \n",
      "===============================================================================\n",
      "     1000      |    -0.483     |     0.002     |     5.725     |     0.351     \n"
     ]
    },
    {
     "name": "stderr",
     "output_type": "stream",
     "text": [
      "\n"
     ]
    }
   ],
   "source": [
    "# fit the Exact GP\n",
    "EXACT_GP_LR = 0.01\n",
    "EXACT_GP_ITERATIONS = 1000\n",
    "# set model and likelihood into training mode\n",
    "exact_gp.train()\n",
    "exact_gp.likelihood.train()\n",
    "# define the optimizer\n",
    "optimizer = torch.optim.Adam(exact_gp.parameters(), lr = EXACT_GP_LR)\n",
    "# define the mll\n",
    "mll = gpytorch.mlls.ExactMarginalLogLikelihood(exact_gp.likelihood, exact_gp)\n",
    "for i in tqdm(range(EXACT_GP_ITERATIONS)):\n",
    "    optimizer.zero_grad()\n",
    "    output = exact_gp(exact_gp.train_x)\n",
    "    loss = -mll(output, exact_gp.train_y)\n",
    "    loss.backward()\n",
    "    optimizer.step()\n",
    "\n",
    "print('='*((5*15) + 4))\n",
    "print(f\"{'Iteration':^15}|{'Loss':^15}|{'Noise':^15}|{'Lengthscale':^15}|{'Outputscale':^15}\")\n",
    "print('='*((5*15) + 4))\n",
    "print(f\"{i+1:^15}|{loss.item():^15.3f}|{exact_gp.likelihood.noise.item():^15.3f}|{exact_gp.kernel.base_kernel.lengthscale.item():^15.3f}|{exact_gp.kernel.outputscale.item():^15.3f}\")"
   ]
  },
  {
   "attachments": {},
   "cell_type": "markdown",
   "metadata": {},
   "source": [
    "## SVGP"
   ]
  },
  {
   "cell_type": "code",
   "execution_count": 72,
   "metadata": {},
   "outputs": [],
   "source": [
    "N_INDUCING = 10\n",
    "Z = torch.linspace(LEFTLIM, RIGHTLIM, N_INDUCING).to(torch.float64)"
   ]
  },
  {
   "cell_type": "code",
   "execution_count": 73,
   "metadata": {},
   "outputs": [],
   "source": [
    "sv_gp = Matern12SVGP(X_train, y_train, Z).to(torch.float64)"
   ]
  },
  {
   "cell_type": "code",
   "execution_count": 74,
   "metadata": {},
   "outputs": [
    {
     "name": "stderr",
     "output_type": "stream",
     "text": [
      "  0%|          | 0/1000 [00:00<?, ?it/s]/Users/maxnorman/opt/anaconda3/envs/project_env/lib/python3.9/site-packages/gpytorch/lazy/non_lazy_tensor.py:13: UserWarning: gpytorch.lazy.lazify is deprecated in favor of linear_operator.to_linear_operator\n",
      "  warnings.warn(\"gpytorch.lazy.lazify is deprecated in favor of linear_operator.to_linear_operator\")\n",
      "100%|██████████| 1000/1000 [00:05<00:00, 188.53it/s]\n"
     ]
    },
    {
     "data": {
      "text/plain": [
       "''"
      ]
     },
     "execution_count": 74,
     "metadata": {},
     "output_type": "execute_result"
    }
   ],
   "source": [
    "# fit the SVGP\n",
    "SVGP_LR = 0.01\n",
    "SVGP_ITERATIONS = 1000\n",
    "optimizer = torch.optim.Adam(sv_gp.parameters(), lr=0.1)\n",
    "# perform gradient descent\n",
    "history = torch.empty(SVGP_ITERATIONS)\n",
    "for i in tqdm(range(SVGP_ITERATIONS)):\n",
    "    optimizer.zero_grad()\n",
    "    elbow = -sv_gp._elbo()\n",
    "    history[i] = elbow.item()\n",
    "    elbow.backward()\n",
    "    optimizer.step()\n",
    ";"
   ]
  },
  {
   "attachments": {},
   "cell_type": "markdown",
   "metadata": {},
   "source": [
    "## VFFGP"
   ]
  },
  {
   "cell_type": "code",
   "execution_count": 75,
   "metadata": {},
   "outputs": [],
   "source": [
    "N_FREQ = 10\n",
    "VFFLIMS = (-0.5, 2.5)"
   ]
  },
  {
   "cell_type": "code",
   "execution_count": 76,
   "metadata": {},
   "outputs": [],
   "source": [
    "vff_gp = Matern12VFFGP(X_train, y_train, N_FREQ, VFFLIMS).to(torch.float64)"
   ]
  },
  {
   "cell_type": "code",
   "execution_count": 77,
   "metadata": {},
   "outputs": [
    {
     "name": "stderr",
     "output_type": "stream",
     "text": [
      "  0%|          | 0/1000 [00:00<?, ?it/s]/Users/maxnorman/opt/anaconda3/envs/project_env/lib/python3.9/site-packages/linear_operator/utils/cholesky.py:40: NumericalWarning: A not p.d., added jitter of 1.0e-08 to the diagonal\n",
      "  warnings.warn(\n",
      "100%|██████████| 1000/1000 [00:05<00:00, 192.95it/s]\n"
     ]
    },
    {
     "data": {
      "text/plain": [
       "''"
      ]
     },
     "execution_count": 77,
     "metadata": {},
     "output_type": "execute_result"
    }
   ],
   "source": [
    "# fit the VFFGP\n",
    "VFFGP_LR = 0.01\n",
    "VFFGP_ITERATIONS = 1000\n",
    "optimizer = torch.optim.Adam(vff_gp.parameters(), lr=VFFGP_LR)\n",
    "# perform gradient descent\n",
    "history = torch.empty(VFFGP_ITERATIONS)\n",
    "for i in tqdm(range(VFFGP_ITERATIONS)):\n",
    "    optimizer.zero_grad()\n",
    "    elbow = -vff_gp._elbo()\n",
    "    history[i] = elbow.item()\n",
    "    elbow.backward()\n",
    "    optimizer.step()\n",
    ";"
   ]
  },
  {
   "attachments": {},
   "cell_type": "markdown",
   "metadata": {},
   "source": [
    "## ASVGP"
   ]
  },
  {
   "cell_type": "code",
   "execution_count": 78,
   "metadata": {},
   "outputs": [],
   "source": [
    "N_KNOTS = 15\n",
    "ASVGPLIMS = (-1, 3)"
   ]
  },
  {
   "cell_type": "code",
   "execution_count": 79,
   "metadata": {},
   "outputs": [],
   "source": [
    "asv_gp = Matern12B1SplineASVGP(X_train, y_train, N_KNOTS, ASVGPLIMS).to(torch.float64)"
   ]
  },
  {
   "cell_type": "code",
   "execution_count": 80,
   "metadata": {},
   "outputs": [
    {
     "name": "stderr",
     "output_type": "stream",
     "text": [
      "100%|██████████| 1000/1000 [00:05<00:00, 194.25it/s]\n"
     ]
    },
    {
     "data": {
      "text/plain": [
       "''"
      ]
     },
     "execution_count": 80,
     "metadata": {},
     "output_type": "execute_result"
    }
   ],
   "source": [
    "# fit the VFFGP\n",
    "ASVGP_LR = 0.1\n",
    "VASVGP_ITERATIONS = 1000\n",
    "optimizer = torch.optim.Adam(asv_gp.parameters(), lr=ASVGP_LR)\n",
    "# perform gradient descent\n",
    "history = torch.empty(VASVGP_ITERATIONS)\n",
    "for i in tqdm(range(VASVGP_ITERATIONS)):\n",
    "    optimizer.zero_grad()\n",
    "    elbow = -asv_gp._elbo()\n",
    "    history[i] = elbow.item()\n",
    "    elbow.backward()\n",
    "    optimizer.step()\n",
    ";"
   ]
  },
  {
   "attachments": {},
   "cell_type": "markdown",
   "metadata": {},
   "source": [
    "## GriddedGP"
   ]
  },
  {
   "cell_type": "code",
   "execution_count": 81,
   "metadata": {},
   "outputs": [],
   "source": [
    "N_KNOTS = 10\n",
    "GRIDDEDLIMS = (0., 2.)"
   ]
  },
  {
   "cell_type": "code",
   "execution_count": 82,
   "metadata": {},
   "outputs": [],
   "source": [
    "gridded_gp = Matern12B0SplineGriddedGP(X_train, y_train, N_KNOTS, GRIDDEDLIMS).to(torch.float64)"
   ]
  },
  {
   "cell_type": "code",
   "execution_count": 83,
   "metadata": {},
   "outputs": [
    {
     "name": "stderr",
     "output_type": "stream",
     "text": [
      "100%|██████████| 1000/1000 [00:05<00:00, 183.12it/s]\n"
     ]
    },
    {
     "data": {
      "text/plain": [
       "''"
      ]
     },
     "execution_count": 83,
     "metadata": {},
     "output_type": "execute_result"
    }
   ],
   "source": [
    "# fit the VFFGP\n",
    "GRIDDEDGP_LR = 0.01\n",
    "GRIDDEDGP_ITERATIONS = 1000\n",
    "optimizer = torch.optim.Adam(gridded_gp.parameters(), lr=GRIDDEDGP_LR)\n",
    "# perform gradient descent\n",
    "history = torch.empty(GRIDDEDGP_ITERATIONS)\n",
    "for i in tqdm(range(GRIDDEDGP_ITERATIONS)):\n",
    "    optimizer.zero_grad()\n",
    "    elbow = -gridded_gp._elbo()\n",
    "    history[i] = elbow.item()\n",
    "    elbow.backward()\n",
    "    optimizer.step()\n",
    ";"
   ]
  },
  {
   "attachments": {},
   "cell_type": "markdown",
   "metadata": {},
   "source": [
    "# Model Comparison"
   ]
  },
  {
   "cell_type": "code",
   "execution_count": 84,
   "metadata": {},
   "outputs": [],
   "source": [
    "plt.rcParams.update(plt.rcParamsDefault)"
   ]
  },
  {
   "cell_type": "code",
   "execution_count": 85,
   "metadata": {},
   "outputs": [],
   "source": [
    "%matplotlib inline"
   ]
  },
  {
   "cell_type": "code",
   "execution_count": 86,
   "metadata": {},
   "outputs": [],
   "source": [
    "plt.style.use('tableau-colorblind10')"
   ]
  },
  {
   "cell_type": "code",
   "execution_count": 87,
   "metadata": {},
   "outputs": [
    {
     "name": "stderr",
     "output_type": "stream",
     "text": [
      "/Users/maxnorman/opt/anaconda3/envs/project_env/lib/python3.9/site-packages/gpytorch/lazy/non_lazy_tensor.py:13: UserWarning: gpytorch.lazy.lazify is deprecated in favor of linear_operator.to_linear_operator\n",
      "  warnings.warn(\"gpytorch.lazy.lazify is deprecated in favor of linear_operator.to_linear_operator\")\n",
      "/Users/maxnorman/opt/anaconda3/envs/project_env/lib/python3.9/site-packages/linear_operator/utils/cholesky.py:40: NumericalWarning: A not p.d., added jitter of 1.0e-08 to the diagonal\n",
      "  warnings.warn(\n",
      "/Users/maxnorman/opt/anaconda3/envs/project_env/lib/python3.9/site-packages/gpytorch/distributions/multivariate_normal.py:319: NumericalWarning: Negative variance values detected. This is likely due to numerical instabilities. Rounding negative variances up to 1e-10.\n",
      "  warnings.warn(\n"
     ]
    },
    {
     "data": {
      "text/plain": [
       "''"
      ]
     },
     "execution_count": 87,
     "metadata": {},
     "output_type": "execute_result"
    },
    {
     "data": {
      "image/png": "[encoded data removed]",
      "text/plain": [
       "<Figure size 2000x300 with 5 Axes>"
      ]
     },
     "metadata": {},
     "output_type": "display_data"
    }
   ],
   "source": [
    "\n",
    "\n",
    "fig, (ax1, ax2, ax3, ax4, ax5) = plt.subplots(1, 5, figsize=(20, 3), sharey=True, sharex=True)\n",
    "# data\n",
    "ax1.scatter(X_train, y_train, color='black', marker='x', label='Training Data')\n",
    "\n",
    "# exact gp\n",
    "f_pred_exact_gp = exact_gp.posterior(X_test)\n",
    "l_exact_gp, u_exact_gp = f_pred_exact_gp.confidence_region()\n",
    "ax2.plot(X_test, f_pred_exact_gp.mean, color='black', label='Exact GP')\n",
    "ax2.fill_between(X_test.squeeze(), l_exact_gp, u_exact_gp, alpha=0.2, color='black')\n",
    "ax2.set_title('Exact GP')\n",
    "\n",
    "# svgp\n",
    "f_pred_sv_gp = sv_gp.posterior(X_test)\n",
    "l_sv_gp, u_sv_gp = f_pred_sv_gp.confidence_region()\n",
    "ax3.plot(X_test, f_pred_sv_gp.mean.detach().numpy(), color='black', label='SVGP')\n",
    "ax3.fill_between(X_test, l_sv_gp.detach().numpy(), u_sv_gp.detach().numpy(), alpha=0.2, color='black')\n",
    "ax3.set_title('SVGP')\n",
    "\n",
    "# vffgp\n",
    "f_pred_vff_gp = vff_gp.posterior(X_test)\n",
    "l_vff_gp, u_vff_gp = f_pred_vff_gp.confidence_region()\n",
    "ax4.plot(X_test, f_pred_vff_gp.mean.detach().numpy(), color='black', label='VFFGP')\n",
    "ax4.fill_between(X_test, l_vff_gp.detach().numpy(), u_vff_gp.detach().numpy(), alpha=0.2, color='black')\n",
    "ax4.set_title('VFFGP')\n",
    "\n",
    "# asvgp\n",
    "f_pred_asv_gp = asv_gp.posterior(X_test)\n",
    "l_asv_gp, u_asv_gp = f_pred_asv_gp.confidence_region()\n",
    "ax5.plot(X_test, f_pred_asv_gp.mean.detach().numpy(), color='black', label='ASVGP')\n",
    "ax5.fill_between(X_test, l_asv_gp.detach().numpy(), u_asv_gp.detach().numpy(), alpha=0.2, color='black')\n",
    "ax5.set_title('ASVGP')\n",
    "\n",
    "# #Gridded GP\n",
    "# f_pred_grid_gp = gridded_gp.q_v()\n",
    "# l_grid_gp, u_grid_gp = f_pred_grid_gp.confidence_region()\n",
    "# grid_centre_points = gridded_gp.mesh[1:] - gridded_gp.delta / 2\n",
    "# ax6.bar(grid_centre_points, f_pred_grid_gp.mean.detach().numpy(), yerr = torch.diagonal(f_pred_grid_gp.covariance_matrix).detach().numpy())\n",
    ";\n"
   ]
  }
 ],
 "metadata": {
  "kernelspec": {
   "display_name": "project_env",
   "language": "python",
   "name": "python3"
  },
  "language_info": {
   "codemirror_mode": {
    "name": "ipython",
    "version": 3
   },
   "file_extension": ".py",
   "mimetype": "text/x-python",
   "name": "python",
   "nbconvert_exporter": "python",
   "pygments_lexer": "ipython3",
   "version": "3.9.17"
  },
  "orig_nbformat": 4
 },
 "nbformat": 4,
 "nbformat_minor": 2
}
